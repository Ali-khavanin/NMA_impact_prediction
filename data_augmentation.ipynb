{
 "cells": [
  {
   "cell_type": "code",
   "execution_count": 1,
   "id": "initial_id",
   "metadata": {
    "collapsed": true,
    "ExecuteTime": {
     "end_time": "2024-07-18T07:28:08.535814Z",
     "start_time": "2024-07-18T07:28:08.473308Z"
    }
   },
   "outputs": [],
   "source": [
    "from pymetaquotes.api import API\n",
    "from dotenv import load_dotenv\n",
    "api = API(\n",
    "                server=load_dotenv('MT5_SERVER'),\n",
    "                login=load_dotenv('MT5_LOGIN'),\n",
    "                password=load_dotenv('MT5_PASSWORD')\n",
    "            )"
   ]
  },
  {
   "cell_type": "code",
   "execution_count": 2,
   "outputs": [
    {
     "name": "stdout",
     "output_type": "stream",
     "text": [
      "            timestamp      open      high       low     close    volume\n",
      "0 2022-01-01 00:00:00  46216.93  46271.08  46208.37  46250.00  40.57574\n",
      "1 2022-01-01 00:01:00  46250.00  46344.23  46234.39  46312.76  42.38106\n",
      "2 2022-01-01 00:02:00  46312.76  46381.69  46292.75  46368.73  51.29955\n",
      "3 2022-01-01 00:03:00  46368.73  46391.49  46314.26  46331.08  30.45894\n",
      "4 2022-01-01 00:04:00  46331.07  46336.10  46300.00  46321.34  20.96029\n"
     ]
    }
   ],
   "source": [
    "import ccxt\n",
    "import pandas as pd\n",
    "binance = ccxt.binance()\n",
    "symbol = 'BTC/USDT'\n",
    "timeframe = '1m'\n",
    "since = binance.parse8601('2022-01-01T00:00:00Z')\n",
    "limit = 1000\n",
    "ohlcv = binance.fetch_ohlcv(symbol, timeframe, since, limit)\n",
    "\n",
    "# Convert to DataFrame\n",
    "df = pd.DataFrame(ohlcv, columns=['timestamp', 'open', 'high', 'low', 'close', 'volume'])\n",
    "df['timestamp'] = pd.to_datetime(df['timestamp'], unit='ms')\n",
    "\n",
    "# Display the data\n",
    "print(df.head())"
   ],
   "metadata": {
    "collapsed": false,
    "ExecuteTime": {
     "end_time": "2024-07-18T07:28:19.470549Z",
     "start_time": "2024-07-18T07:28:11.596544Z"
    }
   },
   "id": "2009a8a457aa221a"
  },
  {
   "cell_type": "code",
   "execution_count": 3,
   "outputs": [
    {
     "name": "stdout",
     "output_type": "stream",
     "text": [
      "Mean time interval between news articles: 37.00201982771584 minutes\n",
      "Standard deviation of time intervals: 112.16639021123623 minutes\n"
     ]
    }
   ],
   "source": [
    "\n",
    "file_path = 'cryptonews.csv'\n",
    "news_data = pd.read_csv(file_path)\n",
    "news_data['date'] = pd.to_datetime(news_data['date'], errors='coerce')\n",
    "news_data = news_data.dropna(subset=['date'])\n",
    "news_data = news_data.sort_values(by='date')\n",
    "news_data['time_interval'] = news_data['date'].diff().dt.total_seconds() / 60\n",
    "mean_interval = news_data['time_interval'].mean()\n",
    "std_interval = news_data['time_interval'].std()\n",
    "\n",
    "\n",
    "print(f\"Mean time interval between news articles: {mean_interval} minutes\")\n",
    "print(f\"Standard deviation of time intervals: {std_interval} minutes\")"
   ],
   "metadata": {
    "collapsed": false,
    "ExecuteTime": {
     "end_time": "2024-07-18T07:28:29.390032Z",
     "start_time": "2024-07-18T07:28:29.201116Z"
    }
   },
   "id": "20c1d25139951a5a"
  },
  {
   "cell_type": "code",
   "execution_count": 4,
   "outputs": [
    {
     "name": "stdout",
     "output_type": "stream",
     "text": [
      "Number of instances with multiple news articles in the same hour: 8250\n",
      "Number of instances with multiple news articles in the same minute: 1153\n"
     ]
    },
    {
     "name": "stderr",
     "output_type": "stream",
     "text": [
      "/var/folders/vy/zfw2s61910g18zbgmctngk2r0000gn/T/ipykernel_26792/2454881095.py:5: FutureWarning: 'H' is deprecated and will be removed in a future version, please use 'h' instead.\n",
      "  news_data['date_hour'] = news_data['date'].dt.floor('H')\n",
      "/var/folders/vy/zfw2s61910g18zbgmctngk2r0000gn/T/ipykernel_26792/2454881095.py:6: FutureWarning: 'T' is deprecated and will be removed in a future version, please use 'min' instead.\n",
      "  news_data['date_minute'] = news_data['date'].dt.floor('T')\n"
     ]
    },
    {
     "data": {
      "text/plain": "                     date           date_hour         date_minute\n31036 2021-10-12 20:00:00 2021-10-12 20:00:00 2021-10-12 20:00:00\n31035 2021-10-15 00:00:00 2021-10-15 00:00:00 2021-10-15 00:00:00\n31034 2021-10-18 13:58:00 2021-10-18 13:00:00 2021-10-18 13:58:00\n31033 2021-10-19 13:39:00 2021-10-19 13:00:00 2021-10-19 13:39:00\n31032 2021-10-27 15:17:00 2021-10-27 15:00:00 2021-10-27 15:17:00",
      "text/html": "<div>\n<style scoped>\n    .dataframe tbody tr th:only-of-type {\n        vertical-align: middle;\n    }\n\n    .dataframe tbody tr th {\n        vertical-align: top;\n    }\n\n    .dataframe thead th {\n        text-align: right;\n    }\n</style>\n<table border=\"1\" class=\"dataframe\">\n  <thead>\n    <tr style=\"text-align: right;\">\n      <th></th>\n      <th>date</th>\n      <th>date_hour</th>\n      <th>date_minute</th>\n    </tr>\n  </thead>\n  <tbody>\n    <tr>\n      <th>31036</th>\n      <td>2021-10-12 20:00:00</td>\n      <td>2021-10-12 20:00:00</td>\n      <td>2021-10-12 20:00:00</td>\n    </tr>\n    <tr>\n      <th>31035</th>\n      <td>2021-10-15 00:00:00</td>\n      <td>2021-10-15 00:00:00</td>\n      <td>2021-10-15 00:00:00</td>\n    </tr>\n    <tr>\n      <th>31034</th>\n      <td>2021-10-18 13:58:00</td>\n      <td>2021-10-18 13:00:00</td>\n      <td>2021-10-18 13:58:00</td>\n    </tr>\n    <tr>\n      <th>31033</th>\n      <td>2021-10-19 13:39:00</td>\n      <td>2021-10-19 13:00:00</td>\n      <td>2021-10-19 13:39:00</td>\n    </tr>\n    <tr>\n      <th>31032</th>\n      <td>2021-10-27 15:17:00</td>\n      <td>2021-10-27 15:00:00</td>\n      <td>2021-10-27 15:17:00</td>\n    </tr>\n  </tbody>\n</table>\n</div>"
     },
     "execution_count": 4,
     "metadata": {},
     "output_type": "execute_result"
    }
   ],
   "source": [
    "\n",
    "\n",
    "news_data['date'] = pd.to_datetime(news_data['date'], errors='coerce')\n",
    "news_data = news_data.dropna(subset=['date'])\n",
    "\n",
    "# Group by date, hour, and minute to count occurrences\n",
    "news_data['date_hour'] = news_data['date'].dt.floor('H')\n",
    "news_data['date_minute'] = news_data['date'].dt.floor('T')\n",
    "\n",
    "# Count the occurrences within the same hour\n",
    "same_hour_counts = news_data.groupby('date_hour').size()\n",
    "\n",
    "# Count the occurrences within the same minute\n",
    "same_minute_counts = news_data.groupby('date_minute').size()\n",
    "\n",
    "# Get the number of occurrences greater than 1 for same hour and same minute\n",
    "same_hour_multiple_news = same_hour_counts[same_hour_counts > 1].count()\n",
    "same_minute_multiple_news = same_minute_counts[same_minute_counts > 1].count()\n",
    "\n",
    "# Display the results\n",
    "print(f\"Number of instances with multiple news articles in the same hour: {same_hour_multiple_news}\")\n",
    "print(f\"Number of instances with multiple news articles in the same minute: {same_minute_multiple_news}\")\n",
    "\n",
    "# Display a sample of the news data with the new columns\n",
    "news_data_sample = news_data.head()\n",
    "news_data_sample[['date', 'date_hour', 'date_minute']]"
   ],
   "metadata": {
    "collapsed": false,
    "ExecuteTime": {
     "end_time": "2024-07-18T07:28:32.766488Z",
     "start_time": "2024-07-18T07:28:32.705022Z"
    }
   },
   "id": "9846db165d8b7956"
  }
 ],
 "metadata": {
  "kernelspec": {
   "display_name": "Python 3",
   "language": "python",
   "name": "python3"
  },
  "language_info": {
   "codemirror_mode": {
    "name": "ipython",
    "version": 2
   },
   "file_extension": ".py",
   "mimetype": "text/x-python",
   "name": "python",
   "nbconvert_exporter": "python",
   "pygments_lexer": "ipython2",
   "version": "2.7.6"
  }
 },
 "nbformat": 4,
 "nbformat_minor": 5
}
